{
 "cells": [
  {
   "cell_type": "markdown",
   "metadata": {
    "id": "LEeuMDBD3Qcg"
   },
   "source": [
    "DATA TYPES\n"
   ]
  },
  {
   "cell_type": "code",
   "execution_count": 1,
   "metadata": {
    "colab": {
     "base_uri": "https://localhost:8080/"
    },
    "executionInfo": {
     "elapsed": 6,
     "status": "ok",
     "timestamp": 1703338212529,
     "user": {
      "displayName": "Vicky Mahato",
      "userId": "12263458226238747661"
     },
     "user_tz": -330
    },
    "id": "EEUQZIqK3K88",
    "outputId": "056f66b9-f5a6-48a0-ff8d-82cfbc05db66"
   },
   "outputs": [
    {
     "name": "stdout",
     "output_type": "stream",
     "text": [
      "2\n",
      "<class 'int'>\n"
     ]
    }
   ],
   "source": [
    "# int\n",
    "# type use  for print  type of variable\n",
    "val=2\n",
    "print(val)\n",
    "print(type(val))"
   ]
  },
  {
   "cell_type": "code",
   "execution_count": 2,
   "metadata": {
    "colab": {
     "base_uri": "https://localhost:8080/"
    },
    "executionInfo": {
     "elapsed": 573,
     "status": "ok",
     "timestamp": 1703338245801,
     "user": {
      "displayName": "Vicky Mahato",
      "userId": "12263458226238747661"
     },
     "user_tz": -330
    },
    "id": "afvG9hZj3pLf",
    "outputId": "2ed439a0-49bf-469b-8aba-8e0b377b1b73"
   },
   "outputs": [
    {
     "name": "stdout",
     "output_type": "stream",
     "text": [
      "2.2\n",
      "<class 'float'>\n"
     ]
    }
   ],
   "source": [
    "#float\n",
    "val=2.20\n",
    "print(val)\n",
    "print(type(val))"
   ]
  },
  {
   "cell_type": "code",
   "execution_count": 3,
   "metadata": {
    "colab": {
     "base_uri": "https://localhost:8080/"
    },
    "executionInfo": {
     "elapsed": 634,
     "status": "ok",
     "timestamp": 1703338297578,
     "user": {
      "displayName": "Vicky Mahato",
      "userId": "12263458226238747661"
     },
     "user_tz": -330
    },
    "id": "zS3FHxSb3p_r",
    "outputId": "46cf9ae0-dd1e-46d7-b5ff-58ae439fb0af"
   },
   "outputs": [
    {
     "name": "stdout",
     "output_type": "stream",
     "text": [
      "False\n",
      "<class 'bool'>\n"
     ]
    }
   ],
   "source": [
    "#boolean\n",
    "val=False\n",
    "print(val)\n",
    "print(type(val))"
   ]
  },
  {
   "cell_type": "code",
   "execution_count": 4,
   "metadata": {
    "colab": {
     "base_uri": "https://localhost:8080/"
    },
    "executionInfo": {
     "elapsed": 564,
     "status": "ok",
     "timestamp": 1703338333746,
     "user": {
      "displayName": "Vicky Mahato",
      "userId": "12263458226238747661"
     },
     "user_tz": -330
    },
    "id": "t0EwVJGC3rHr",
    "outputId": "5818a787-d5ea-4b23-d743-7bf4912f9e59"
   },
   "outputs": [
    {
     "name": "stdout",
     "output_type": "stream",
     "text": [
      "[1, 2, 'hi']\n",
      "<class 'list'>\n"
     ]
    }
   ],
   "source": [
    "#list value can be mutable means change\n",
    "val=[1,2,'hi']\n",
    "print(val)\n",
    "print(type(val))"
   ]
  },
  {
   "cell_type": "code",
   "execution_count": 5,
   "metadata": {
    "colab": {
     "base_uri": "https://localhost:8080/"
    },
    "executionInfo": {
     "elapsed": 618,
     "status": "ok",
     "timestamp": 1703338384569,
     "user": {
      "displayName": "Vicky Mahato",
      "userId": "12263458226238747661"
     },
     "user_tz": -330
    },
    "id": "OPpU1zfW3r4-",
    "outputId": "20347fd9-7ef1-4604-c200-f60fdc859174"
   },
   "outputs": [
    {
     "name": "stdout",
     "output_type": "stream",
     "text": [
      "[1, 2, 'hi']\n",
      "<class 'list'>\n"
     ]
    }
   ],
   "source": [
    "#tuple but list which is immutable\n",
    "val1=(1,2,3,'to',9.0)\n",
    "print(val)\n",
    "print(type(val))"
   ]
  },
  {
   "cell_type": "code",
   "execution_count": 6,
   "metadata": {
    "colab": {
     "base_uri": "https://localhost:8080/"
    },
    "executionInfo": {
     "elapsed": 1931,
     "status": "ok",
     "timestamp": 1703338465001,
     "user": {
      "displayName": "Vicky Mahato",
      "userId": "12263458226238747661"
     },
     "user_tz": -330
    },
    "id": "QfFDJVUt3sc5",
    "outputId": "ef774bb0-1f5e-4d83-9700-9cd4fe545495"
   },
   "outputs": [
    {
     "name": "stdout",
     "output_type": "stream",
     "text": [
      "{1, 2, 5}\n",
      "<class 'set'>\n"
     ]
    }
   ],
   "source": [
    "#set , every element should different value\n",
    "val={1,1,2,5}\n",
    "print(val)\n",
    "print(type(val))"
   ]
  },
  {
   "cell_type": "code",
   "execution_count": 7,
   "metadata": {
    "colab": {
     "base_uri": "https://localhost:8080/"
    },
    "executionInfo": {
     "elapsed": 704,
     "status": "ok",
     "timestamp": 1703338646360,
     "user": {
      "displayName": "Vicky Mahato",
      "userId": "12263458226238747661"
     },
     "user_tz": -330
    },
    "id": "boPWNXsQ3tKV",
    "outputId": "d7e22715-2912-4097-9b3f-42348c2d4546"
   },
   "outputs": [
    {
     "name": "stdout",
     "output_type": "stream",
     "text": [
      "{'name': ' Vicky', 'age': 20, 'Profession': 'ML Devloper'}\n",
      "<class 'dict'>\n"
     ]
    }
   ],
   "source": [
    "#dictonary as map for c++ amd java\n",
    "val={'name':\" Vicky\", 'age':20 ,'Profession':'ML Devloper'}\n",
    "print(val)\n",
    "print(type(val))"
   ]
  },
  {
   "cell_type": "code",
   "execution_count": 8,
   "metadata": {
    "colab": {
     "base_uri": "https://localhost:8080/"
    },
    "executionInfo": {
     "elapsed": 640,
     "status": "ok",
     "timestamp": 1703338668010,
     "user": {
      "displayName": "Vicky Mahato",
      "userId": "12263458226238747661"
     },
     "user_tz": -330
    },
    "id": "v3Gd-IIg3tT_",
    "outputId": "af2124b7-b345-4042-d677-1a69d5f2570a"
   },
   "outputs": [
    {
     "name": "stdout",
     "output_type": "stream",
     "text": [
      "hui,kem cho\n",
      "<class 'str'>\n"
     ]
    }
   ],
   "source": [
    "#string\n",
    "val=\"hui,kem cho\"\n",
    "print(val)\n",
    "print(type(val))"
   ]
  },
  {
   "cell_type": "code",
   "execution_count": 9,
   "metadata": {
    "colab": {
     "base_uri": "https://localhost:8080/"
    },
    "executionInfo": {
     "elapsed": 805,
     "status": "ok",
     "timestamp": 1703338706259,
     "user": {
      "displayName": "Vicky Mahato",
      "userId": "12263458226238747661"
     },
     "user_tz": -330
    },
    "id": "3gtxomPT5X_r",
    "outputId": "3b9f94ad-c442-4397-bd66-9d12a82fd580"
   },
   "outputs": [
    {
     "name": "stdout",
     "output_type": "stream",
     "text": [
      "None\n",
      "<class 'NoneType'>\n"
     ]
    }
   ],
   "source": [
    "#None for null type value\n",
    "val=None\n",
    "print(val)\n",
    "print(type(val))"
   ]
  },
  {
   "cell_type": "markdown",
   "metadata": {
    "id": "kEu3_Lwr3PlP"
   },
   "source": [
    "\n",
    "```\n",
    "\n"
   ]
  },
  {
   "cell_type": "markdown",
   "metadata": {
    "id": "ZcJD_fG85v5z"
   },
   "source": [
    "# **OPERATORS**"
   ]
  },
  {
   "cell_type": "code",
   "execution_count": 10,
   "metadata": {
    "colab": {
     "base_uri": "https://localhost:8080/"
    },
    "executionInfo": {
     "elapsed": 572,
     "status": "ok",
     "timestamp": 1703339891169,
     "user": {
      "displayName": "Vicky Mahato",
      "userId": "12263458226238747661"
     },
     "user_tz": -330
    },
    "id": "1dP1niIY549x",
    "outputId": "b254ea3c-5ce4-49d1-cea8-82dfaa506da2"
   },
   "outputs": [
    {
     "name": "stdout",
     "output_type": "stream",
     "text": [
      "11\n",
      "5\n",
      "24\n",
      "2.6666666666666665\n",
      "2\n",
      "512\n"
     ]
    }
   ],
   "source": [
    "#arthimetic operators\n",
    "a=8\n",
    "b=3\n",
    "\n",
    "print(a+b)\n",
    "print(a-b)\n",
    "print(a*b)\n",
    "print(a/b)\n",
    "print(a%b)\n",
    "print(a**b)\n"
   ]
  },
  {
   "cell_type": "code",
   "execution_count": 11,
   "metadata": {
    "colab": {
     "base_uri": "https://localhost:8080/"
    },
    "executionInfo": {
     "elapsed": 699,
     "status": "ok",
     "timestamp": 1703339969259,
     "user": {
      "displayName": "Vicky Mahato",
      "userId": "12263458226238747661"
     },
     "user_tz": -330
    },
    "id": "D21NMi0V-DiG",
    "outputId": "b439396a-f714-4587-9eb0-edbb45564d24"
   },
   "outputs": [
    {
     "name": "stdout",
     "output_type": "stream",
     "text": [
      "True\n",
      "False\n",
      "True\n",
      "False\n",
      "False\n",
      "True\n"
     ]
    }
   ],
   "source": [
    "#comparison operator\n",
    "a=8\n",
    "b=3\n",
    "\n",
    "print(a>b)\n",
    "print(a<b)\n",
    "print(a>=b)\n",
    "print(a<=b)\n",
    "print(a==b)\n",
    "print(a!=b)\n"
   ]
  },
  {
   "cell_type": "code",
   "execution_count": 12,
   "metadata": {
    "colab": {
     "base_uri": "https://localhost:8080/"
    },
    "executionInfo": {
     "elapsed": 582,
     "status": "ok",
     "timestamp": 1703340072551,
     "user": {
      "displayName": "Vicky Mahato",
      "userId": "12263458226238747661"
     },
     "user_tz": -330
    },
    "id": "UZfbJh0D-YP9",
    "outputId": "93d6548f-7694-41b1-96e7-d7ba2ba79575"
   },
   "outputs": [
    {
     "name": "stdout",
     "output_type": "stream",
     "text": [
      "False\n",
      "True\n",
      "True\n"
     ]
    }
   ],
   "source": [
    "# Logical operator here  operand should boolean form\n",
    "a=True\n",
    "b=False\n",
    "\n",
    "print(a and b)\n",
    "print(a or b)\n",
    "print(not b)"
   ]
  },
  {
   "cell_type": "code",
   "execution_count": 13,
   "metadata": {
    "colab": {
     "base_uri": "https://localhost:8080/"
    },
    "executionInfo": {
     "elapsed": 567,
     "status": "ok",
     "timestamp": 1703340215691,
     "user": {
      "displayName": "Vicky Mahato",
      "userId": "12263458226238747661"
     },
     "user_tz": -330
    },
    "id": "vRPdNx6k-us8",
    "outputId": "602a51ed-3853-4de4-8747-d45ba6a31edd"
   },
   "outputs": [
    {
     "name": "stdout",
     "output_type": "stream",
     "text": [
      "16\n",
      "10\n"
     ]
    }
   ],
   "source": [
    "#assignment  operator\n",
    "\n",
    "a=10\n",
    "a+=6\n",
    "print(a)\n",
    "a-=6\n",
    "print(a)\n"
   ]
  },
  {
   "cell_type": "code",
   "execution_count": 14,
   "metadata": {
    "colab": {
     "base_uri": "https://localhost:8080/"
    },
    "executionInfo": {
     "elapsed": 586,
     "status": "ok",
     "timestamp": 1703340365850,
     "user": {
      "displayName": "Vicky Mahato",
      "userId": "12263458226238747661"
     },
     "user_tz": -330
    },
    "id": "DneUhyHi_Uu2",
    "outputId": "0e572517-e5c7-4574-e614-d9a20ee331e6"
   },
   "outputs": [
    {
     "name": "stdout",
     "output_type": "stream",
     "text": [
      "True\n"
     ]
    }
   ],
   "source": [
    "# member ship operator  in python\n",
    "# used for cheking the data present or not\n",
    "\n",
    "text =\"Hello bachho ,this is your mentor and DRDO scientist Vicky Mahato\"\n",
    "true= \"Vicky Mahato\" in text\n",
    "print(true)"
   ]
  },
  {
   "cell_type": "code",
   "execution_count": 15,
   "metadata": {
    "colab": {
     "base_uri": "https://localhost:8080/"
    },
    "executionInfo": {
     "elapsed": 872,
     "status": "ok",
     "timestamp": 1703340425070,
     "user": {
      "displayName": "Vicky Mahato",
      "userId": "12263458226238747661"
     },
     "user_tz": -330
    },
    "id": "A-EwV3Ep_2kM",
    "outputId": "6db2169b-b224-477e-ad11-726a2348c5d3"
   },
   "outputs": [
    {
     "name": "stdout",
     "output_type": "stream",
     "text": [
      "True\n"
     ]
    }
   ],
   "source": [
    "# idnetity foe checking to elements are same or not\n",
    "x=20\n",
    "y=x\n",
    "print(x is y)\n"
   ]
  },
  {
   "cell_type": "code",
   "execution_count": 16,
   "metadata": {
    "colab": {
     "base_uri": "https://localhost:8080/"
    },
    "executionInfo": {
     "elapsed": 1044,
     "status": "ok",
     "timestamp": 1703340529539,
     "user": {
      "displayName": "Vicky Mahato",
      "userId": "12263458226238747661"
     },
     "user_tz": -330
    },
    "id": "SWzgSSuXALEC",
    "outputId": "8c38fbe8-8d6b-4746-ce6e-23fda4b0d74b"
   },
   "outputs": [
    {
     "name": "stdout",
     "output_type": "stream",
     "text": [
      "20\n",
      "1\n"
     ]
    }
   ],
   "source": [
    "#bitwise operator\n",
    "\n",
    "print(5<<2) #left shit\n",
    "print(5>>2) #right shift"
   ]
  },
  {
   "cell_type": "markdown",
   "metadata": {
    "id": "iFiv0p6m5v7p"
   },
   "source": []
  },
  {
   "cell_type": "code",
   "execution_count": null,
   "metadata": {},
   "outputs": [],
   "source": []
  }
 ],
 "metadata": {
  "colab": {
   "authorship_tag": "ABX9TyMkzM6oOH20XG7awS7iqQgM",
   "provenance": []
  },
  "kernelspec": {
   "display_name": "Python 3 (ipykernel)",
   "language": "python",
   "name": "python3"
  },
  "language_info": {
   "codemirror_mode": {
    "name": "ipython",
    "version": 3
   },
   "file_extension": ".py",
   "mimetype": "text/x-python",
   "name": "python",
   "nbconvert_exporter": "python",
   "pygments_lexer": "ipython3",
   "version": "3.11.4"
  }
 },
 "nbformat": 4,
 "nbformat_minor": 1
}

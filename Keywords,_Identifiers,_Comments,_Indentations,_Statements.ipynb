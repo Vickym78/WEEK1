{
  "nbformat": 4,
  "nbformat_minor": 0,
  "metadata": {
    "colab": {
      "provenance": []
    },
    "kernelspec": {
      "name": "python3",
      "display_name": "Python 3"
    },
    "language_info": {
      "name": "python"
    }
  },
  "cells": [
    {
      "cell_type": "markdown",
      "source": [
        "# 1. Python Keywords\n",
        "\n"
      ],
      "metadata": {
        "id": "rqwUA23j3vxB"
      }
    },
    {
      "cell_type": "markdown",
      "source": [
        "- Keywords in Python are predefined words that hold a special meaning and have a specific purpose within the Python language.\n",
        "\n",
        "- These keywords are reserved and already defined by the Python compiler or interpreter, and they cannot be used as variable names or function names.\n",
        "\n",
        "- Keywords are used to define the syntax and structure of the Python language, forming the building blocks for creating programs.\n",
        "\n",
        "- Python keywords have predefined functionality and cannot be redefined or modified by the programmer.\n"
      ],
      "metadata": {
        "id": "_Nt7wiT5y7YK"
      }
    },
    {
      "cell_type": "code",
      "source": [
        "help('keywords')"
      ],
      "metadata": {
        "colab": {
          "base_uri": "https://localhost:8080/"
        },
        "id": "VFF-7KnY3Y0M",
        "outputId": "e39eb4c7-1df0-4644-8700-85937920bc4f"
      },
      "execution_count": null,
      "outputs": [
        {
          "output_type": "stream",
          "name": "stdout",
          "text": [
            "\n",
            "Here is a list of the Python keywords.  Enter any keyword to get more help.\n",
            "\n",
            "False               class               from                or\n",
            "None                continue            global              pass\n",
            "True                def                 if                  raise\n",
            "and                 del                 import              return\n",
            "as                  elif                in                  try\n",
            "assert              else                is                  while\n",
            "async               except              lambda              with\n",
            "await               finally             nonlocal            yield\n",
            "break               for                 not                 \n",
            "\n"
          ]
        }
      ]
    },
    {
      "cell_type": "markdown",
      "source": [
        "# 2. Python Identifiers"
      ],
      "metadata": {
        "id": "A13Xa8Cw39Bv"
      }
    },
    {
      "cell_type": "markdown",
      "source": [
        "### 2.1. Valid Identifiers"
      ],
      "metadata": {
        "id": "Joe7M4KX7N16"
      }
    },
    {
      "cell_type": "code",
      "source": [
        "_abc = \"PWskills courses\"  # Valid\n",
        "print(_abc)"
      ],
      "metadata": {
        "colab": {
          "base_uri": "https://localhost:8080/"
        },
        "id": "b-_aXSMb3u6g",
        "outputId": "be545a70-c875-42cf-a5a1-3a6dcc96d398"
      },
      "execution_count": null,
      "outputs": [
        {
          "output_type": "stream",
          "name": "stdout",
          "text": [
            "PWskills courses\n"
          ]
        }
      ]
    },
    {
      "cell_type": "code",
      "source": [
        "IOI23 = \"IOI courses\"  # Valid\n",
        "print(IOI23)"
      ],
      "metadata": {
        "colab": {
          "base_uri": "https://localhost:8080/"
        },
        "id": "0bSXY_gu4iE8",
        "outputId": "94c02020-8315-4d8d-cbab-2de6213df552"
      },
      "execution_count": null,
      "outputs": [
        {
          "output_type": "stream",
          "name": "stdout",
          "text": [
            "IOI courses\n"
          ]
        }
      ]
    },
    {
      "cell_type": "code",
      "source": [
        "Physics_Wallah = \"Online Education Platform\"  # Valid\n",
        "print(Physics_Wallah)"
      ],
      "metadata": {
        "colab": {
          "base_uri": "https://localhost:8080/"
        },
        "id": "xKfkYlrn4X0b",
        "outputId": "bebf5dab-e14a-491e-9be7-a838f868f898"
      },
      "execution_count": null,
      "outputs": [
        {
          "output_type": "stream",
          "name": "stdout",
          "text": [
            "Online Education Platform\n"
          ]
        }
      ]
    },
    {
      "cell_type": "code",
      "source": [
        "DataAnalytics_2023 = \"Data Exploration and Analysis\"   # Valid\n",
        "print(DataAnalytics_2023)"
      ],
      "metadata": {
        "colab": {
          "base_uri": "https://localhost:8080/"
        },
        "id": "U66ugrrD4vat",
        "outputId": "c0fd8092-2687-4dec-b9e6-535818494367"
      },
      "execution_count": null,
      "outputs": [
        {
          "output_type": "stream",
          "name": "stdout",
          "text": [
            "Data Exploration and Analysis\n"
          ]
        }
      ]
    },
    {
      "cell_type": "code",
      "source": [
        "Courses = [\"Physics\", \"Math\", \"Chemistry\"]   # Valid\n",
        "print(Courses)"
      ],
      "metadata": {
        "colab": {
          "base_uri": "https://localhost:8080/"
        },
        "id": "10VH1MAp5i8k",
        "outputId": "ba2ae20f-3341-4d0a-fd7a-f87b5082c42f"
      },
      "execution_count": null,
      "outputs": [
        {
          "output_type": "stream",
          "name": "stdout",
          "text": [
            "['Physics', 'Math', 'Chemistry']\n"
          ]
        }
      ]
    },
    {
      "cell_type": "markdown",
      "source": [
        "### 2.2. Invalid Identifiers"
      ],
      "metadata": {
        "id": "N8jCXLpx7I77"
      }
    },
    {
      "cell_type": "code",
      "source": [
        "a-bc = \"PWskills courses\"  # Invalid\n",
        "print(a-bc)"
      ],
      "metadata": {
        "colab": {
          "base_uri": "https://localhost:8080/",
          "height": 140
        },
        "id": "6_cym-5s4e1g",
        "outputId": "1e831bd9-ba61-47df-df3d-042420f6902b"
      },
      "execution_count": null,
      "outputs": [
        {
          "output_type": "error",
          "ename": "SyntaxError",
          "evalue": "ignored",
          "traceback": [
            "\u001b[0;36m  File \u001b[0;32m\"<ipython-input-6-548ba5afd47d>\"\u001b[0;36m, line \u001b[0;32m3\u001b[0m\n\u001b[0;31m    a-bc = \"PWskills courses\"\u001b[0m\n\u001b[0m    ^\u001b[0m\n\u001b[0;31mSyntaxError\u001b[0m\u001b[0;31m:\u001b[0m cannot assign to expression here. Maybe you meant '==' instead of '='?\n"
          ]
        }
      ]
    },
    {
      "cell_type": "code",
      "source": [
        "23 = \"IOI courses\" # Invalid\n",
        "print(23)\n",
        "print(23)"
      ],
      "metadata": {
        "colab": {
          "base_uri": "https://localhost:8080/",
          "height": 140
        },
        "id": "F2vvJhSy51xL",
        "outputId": "1e4dfdc3-0b98-47b2-e6f7-fd80f360ad7e"
      },
      "execution_count": null,
      "outputs": [
        {
          "output_type": "error",
          "ename": "SyntaxError",
          "evalue": "ignored",
          "traceback": [
            "\u001b[0;36m  File \u001b[0;32m\"<ipython-input-6-87a8f1a10d62>\"\u001b[0;36m, line \u001b[0;32m1\u001b[0m\n\u001b[0;31m    23 = \"IOI courses\"\u001b[0m\n\u001b[0m    ^\u001b[0m\n\u001b[0;31mSyntaxError\u001b[0m\u001b[0;31m:\u001b[0m cannot assign to literal here. Maybe you meant '==' instead of '='?\n"
          ]
        }
      ]
    },
    {
      "cell_type": "code",
      "source": [
        "3PWskills = 10  # Invalid\n",
        "print(3PWskills)"
      ],
      "metadata": {
        "colab": {
          "base_uri": "https://localhost:8080/",
          "height": 140
        },
        "id": "AMwgxp9K6PEr",
        "outputId": "c0716970-fb36-4cb6-d67b-4fc65fc23510"
      },
      "execution_count": null,
      "outputs": [
        {
          "output_type": "error",
          "ename": "SyntaxError",
          "evalue": "ignored",
          "traceback": [
            "\u001b[0;36m  File \u001b[0;32m\"<ipython-input-7-aa0ba5315b0f>\"\u001b[0;36m, line \u001b[0;32m1\u001b[0m\n\u001b[0;31m    3PWskills = 10  # Invalid\u001b[0m\n\u001b[0m    ^\u001b[0m\n\u001b[0;31mSyntaxError\u001b[0m\u001b[0;31m:\u001b[0m invalid decimal literal\n"
          ]
        }
      ]
    },
    {
      "cell_type": "code",
      "source": [
        "DataScience-Course = \"Machine Learning\"  # Invalid\n",
        "print(DataScience-Course)"
      ],
      "metadata": {
        "colab": {
          "base_uri": "https://localhost:8080/",
          "height": 140
        },
        "id": "lOXY27yQ6bjy",
        "outputId": "3a98cbd4-4bde-42c5-a7e6-433fb3e62d99"
      },
      "execution_count": null,
      "outputs": [
        {
          "output_type": "error",
          "ename": "SyntaxError",
          "evalue": "ignored",
          "traceback": [
            "\u001b[0;36m  File \u001b[0;32m\"<ipython-input-8-5ca524e22edf>\"\u001b[0;36m, line \u001b[0;32m1\u001b[0m\n\u001b[0;31m    DataScience-Course = \"Machine Learning\"  # Invalid\u001b[0m\n\u001b[0m    ^\u001b[0m\n\u001b[0;31mSyntaxError\u001b[0m\u001b[0;31m:\u001b[0m cannot assign to expression here. Maybe you meant '==' instead of '='?\n"
          ]
        }
      ]
    },
    {
      "cell_type": "code",
      "source": [
        "Data Analytics_Course = \"Data Analysis\"  # Invalid\n",
        "print(Data Analytics_Course)\n",
        "\n"
      ],
      "metadata": {
        "colab": {
          "base_uri": "https://localhost:8080/",
          "height": 140
        },
        "id": "FkS_0cbJ6pFZ",
        "outputId": "4fa64d6b-ff03-46f0-cbc9-efe8d24c937b"
      },
      "execution_count": null,
      "outputs": [
        {
          "output_type": "error",
          "ename": "SyntaxError",
          "evalue": "ignored",
          "traceback": [
            "\u001b[0;36m  File \u001b[0;32m\"<ipython-input-9-14f81179b7ab>\"\u001b[0;36m, line \u001b[0;32m1\u001b[0m\n\u001b[0;31m    Data Analytics_Course = \"Data Analysis\"  # Invalid\u001b[0m\n\u001b[0m         ^\u001b[0m\n\u001b[0;31mSyntaxError\u001b[0m\u001b[0;31m:\u001b[0m invalid syntax\n"
          ]
        }
      ]
    },
    {
      "cell_type": "markdown",
      "source": [
        "# 3. Comments"
      ],
      "metadata": {
        "id": "oPWNCCYZ4tQg"
      }
    },
    {
      "cell_type": "markdown",
      "source": [
        "- Comments are used in Python to give explanations and documentation inside your code.\n",
        "\n",
        "- The Python interpreter does not execute comments, and they exist purely to help human readers to understand the code.\n",
        "\n",
        "- They're a great way to explain the purpose of code, provide context, and make code more readable.\n"
      ],
      "metadata": {
        "id": "mgmRyH1Q7qMC"
      }
    },
    {
      "cell_type": "markdown",
      "source": [
        "### 3.1. Single Line Comments"
      ],
      "metadata": {
        "id": "Sl8f4Pt58BXr"
      }
    },
    {
      "cell_type": "code",
      "source": [
        "# This is a single-line comment\n",
        "\n",
        "variable = 22  # This comment explains the variable's value"
      ],
      "metadata": {
        "id": "0W378T9v4qal"
      },
      "execution_count": null,
      "outputs": []
    },
    {
      "cell_type": "markdown",
      "source": [
        "### 3.2. Multi-Line Comments"
      ],
      "metadata": {
        "id": "qWySqvRu8R0h"
      }
    },
    {
      "cell_type": "code",
      "source": [
        "# Multi-Line Comments\n",
        "\n",
        "'''\n",
        "Physics Wallah is leading ed-tech in India.\n",
        "PWskills is a Tech entity of PW.\n",
        "\n",
        "'''\n",
        "\n",
        "\"\"\"\n",
        "This is another method for making a multi-line comment.\n",
        "Use triple double quotes if you prefer.\n",
        "\"\"\"\n"
      ],
      "metadata": {
        "colab": {
          "base_uri": "https://localhost:8080/",
          "height": 53
        },
        "id": "_uDKJHGa43D-",
        "outputId": "31b019cc-8aba-4b92-acad-22baa1968ec4"
      },
      "execution_count": null,
      "outputs": [
        {
          "output_type": "execute_result",
          "data": {
            "text/plain": [
              "'\\nThis is another method for making a multi-line comment.\\nUse triple double quotes if you prefer.\\n'"
            ],
            "application/vnd.google.colaboratory.intrinsic+json": {
              "type": "string"
            }
          },
          "metadata": {},
          "execution_count": 8
        }
      ]
    },
    {
      "cell_type": "markdown",
      "source": [
        "### 4.3 Docstring Comments"
      ],
      "metadata": {
        "id": "EYG0eduJ8VAI"
      }
    },
    {
      "cell_type": "markdown",
      "source": [
        "- Docstrings are special forms of comments that are used to document functions, classes, and modules.\n",
        "\n",
        "- Docstrings describe the intent, arguments, and return values of functions and classes.\n",
        "\n",
        "- Docstrings are often contained in triple-quoted strings and put right after the function or class declaration.\n"
      ],
      "metadata": {
        "id": "c8iYAvIUAPr2"
      }
    },
    {
      "cell_type": "code",
      "source": [
        "# Docstring Comments\n",
        "\n",
        "def Physics_wallah(PWskills, IOI):\n",
        "    '''\n",
        "    This is a docstring for my_function.\n",
        "\n",
        "    :PWskills: Description of PWskills\n",
        "    :IOI: Description of IOI\n",
        "    :return: Description of the return value\n",
        "\n",
        "    '''\n",
        "    # Function code here\n"
      ],
      "metadata": {
        "id": "aK99axkW49kV"
      },
      "execution_count": null,
      "outputs": []
    },
    {
      "cell_type": "markdown",
      "source": [
        " # 4. Indentation"
      ],
      "metadata": {
        "id": "-CP23uy552oR"
      }
    },
    {
      "cell_type": "markdown",
      "source": [
        "- In Python, indentation is used to determine the structure and execution of code blocks.\n",
        "\n",
        "- The level of indentation indicates code blocks. Subordinate blocks are indented to the right of their parent blocks.\n",
        "\n",
        "- Indentation is used to separate code blocks in a variety of settings, including:\n",
        "    - Conditional statements (e.g., if, else, elif).\n",
        "    - Loop structures (e.g., for, while).\n",
        "    - Function and class definitions.\n",
        "    - Exception handling (e.g., try, except, finally).\n",
        "    - List comprehensions, dictionaries, and other compound data structures rely on indentation.\n",
        "\n"
      ],
      "metadata": {
        "id": "eGvqpwvbYNFJ"
      }
    },
    {
      "cell_type": "code",
      "source": [
        "# If Statement with Indentation\n",
        "\n",
        "word = \"PWskills course\"\n",
        "\n",
        "if \"PWskills\" in word:\n",
        "    print(\"Found 'PWskills' in the word.\")\n",
        "else:\n",
        "    print(\"Did not find 'PWskills' in the word.\")"
      ],
      "metadata": {
        "colab": {
          "base_uri": "https://localhost:8080/"
        },
        "id": "RQuxWRuE5EBW",
        "outputId": "527c8796-cc9c-4702-c514-1bd0ad3c270a"
      },
      "execution_count": null,
      "outputs": [
        {
          "output_type": "stream",
          "name": "stdout",
          "text": [
            "Found 'PWskills' in the word.\n"
          ]
        }
      ]
    },
    {
      "cell_type": "code",
      "source": [
        "# Loop with Indentation\n",
        "\n",
        "word = \"PWskills course\"\n",
        "\n",
        "for letter in word:\n",
        "    print(letter)"
      ],
      "metadata": {
        "colab": {
          "base_uri": "https://localhost:8080/"
        },
        "id": "ajcjInMb6YLt",
        "outputId": "4b7edff0-0a0d-4767-effb-6231c8ee103a"
      },
      "execution_count": null,
      "outputs": [
        {
          "output_type": "stream",
          "name": "stdout",
          "text": [
            "P\n",
            "W\n",
            "s\n",
            "k\n",
            "i\n",
            "l\n",
            "l\n",
            "s\n",
            " \n",
            "c\n",
            "o\n",
            "u\n",
            "r\n",
            "s\n",
            "e\n"
          ]
        }
      ]
    },
    {
      "cell_type": "code",
      "source": [
        "# Function Definition with Indentation\n",
        "\n",
        "def greet(name):\n",
        "    print(f\"Hello, {name}!\")\n",
        "\n",
        "greet(\"PWskills\")"
      ],
      "metadata": {
        "colab": {
          "base_uri": "https://localhost:8080/"
        },
        "id": "H5fzqAM36e-l",
        "outputId": "0884616e-93b4-4c3d-d454-0767d33ebfd7"
      },
      "execution_count": null,
      "outputs": [
        {
          "output_type": "stream",
          "name": "stdout",
          "text": [
            "Hello, PWskills!\n"
          ]
        }
      ]
    },
    {
      "cell_type": "code",
      "source": [
        "# Class Definition with Indentation\n",
        "\n",
        "class Course:\n",
        "    def __init__(self, name):\n",
        "        self.name = name\n",
        "\n",
        "    def display_name(self):\n",
        "        print(f\"Course name: {self.name}\")\n",
        "\n",
        "course = Course(\"PWskills course\")\n",
        "course.display_name()\n"
      ],
      "metadata": {
        "colab": {
          "base_uri": "https://localhost:8080/"
        },
        "id": "gyhuO7jZ6iss",
        "outputId": "27b8fa39-afb4-4991-ac70-b6f3e405c2b0"
      },
      "execution_count": null,
      "outputs": [
        {
          "output_type": "stream",
          "name": "stdout",
          "text": [
            "Course name: PWskills course\n"
          ]
        }
      ]
    },
    {
      "cell_type": "markdown",
      "source": [
        "# 5. Statements"
      ],
      "metadata": {
        "id": "HduPd6LRBcj1"
      }
    },
    {
      "cell_type": "markdown",
      "source": [
        "- Statements are the fundamental blocks of code that comprise a Python program. They are commands that the Python interpreter uses to carry out various activities.\n",
        "\n",
        "- Python statements may perform a variety of tasks, including setting values to variables, making decisions, repeating activities in loops, and more.\n"
      ],
      "metadata": {
        "id": "eElLx2xrYuMI"
      }
    },
    {
      "cell_type": "markdown",
      "source": [
        "###5.1. Assignment Statements\n"
      ],
      "metadata": {
        "id": "IlcKKYm3Cjrx"
      }
    },
    {
      "cell_type": "code",
      "source": [
        "z = 101  # Assigning the value 101 to the variable z\n",
        "name = \"PWskills\"  # Assigning the string \"PWskills\" to the variable name\n",
        "print(name)"
      ],
      "metadata": {
        "colab": {
          "base_uri": "https://localhost:8080/"
        },
        "id": "cqxhSc2Y6m5M",
        "outputId": "485a6431-4b20-44a1-d1d4-9d281ab95a33"
      },
      "execution_count": null,
      "outputs": [
        {
          "output_type": "stream",
          "name": "stdout",
          "text": [
            "PWskills\n"
          ]
        }
      ]
    },
    {
      "cell_type": "markdown",
      "source": [
        "### 5.2. Expression Statements\n",
        "\n"
      ],
      "metadata": {
        "id": "DE-PQ6o6CskL"
      }
    },
    {
      "cell_type": "code",
      "source": [
        "x = 5\n",
        "add = x + 10  # Evaluating the expression and assigning the result to add variable\n",
        "print(add)"
      ],
      "metadata": {
        "colab": {
          "base_uri": "https://localhost:8080/"
        },
        "id": "Z2O7rnIcBmzC",
        "outputId": "449e739d-8fdb-42cc-8f44-49ec166bfe40"
      },
      "execution_count": null,
      "outputs": [
        {
          "output_type": "stream",
          "name": "stdout",
          "text": [
            "15\n"
          ]
        }
      ]
    },
    {
      "cell_type": "markdown",
      "source": [
        "### 5.3. Conditional Statements"
      ],
      "metadata": {
        "id": "csDTXTXvC0G_"
      }
    },
    {
      "cell_type": "code",
      "source": [
        "text = \"PWskills course\"\n",
        "\n",
        "if \"PWskills\" in text:\n",
        "    print(\"This text contains 'PWskills'\")\n",
        "elif \"course\" in text:\n",
        "    print(\"This text contains 'course'\")\n",
        "else:\n",
        "    print(\"This text doesn't contain either 'PWskills' or 'course'\")\n"
      ],
      "metadata": {
        "colab": {
          "base_uri": "https://localhost:8080/"
        },
        "id": "jR-gyWOYBxGb",
        "outputId": "91a07a70-37de-49c2-bb53-dfbdfd5c6198"
      },
      "execution_count": null,
      "outputs": [
        {
          "output_type": "stream",
          "name": "stdout",
          "text": [
            "This text contains 'PWskills'\n"
          ]
        }
      ]
    },
    {
      "cell_type": "markdown",
      "source": [
        "### 5.4. Loop Statements"
      ],
      "metadata": {
        "id": "tRBhFMv2DB7N"
      }
    },
    {
      "cell_type": "code",
      "source": [
        "# Using a for Loop\n",
        "\n",
        "text = \"PWskills course\"\n",
        "for char in text:\n",
        "    print(char)\n"
      ],
      "metadata": {
        "colab": {
          "base_uri": "https://localhost:8080/"
        },
        "id": "O4AcZaRSCS_c",
        "outputId": "2b7e3938-e10b-4e84-a77c-d89411f4c1d5"
      },
      "execution_count": null,
      "outputs": [
        {
          "output_type": "stream",
          "name": "stdout",
          "text": [
            "P\n",
            "W\n",
            "s\n",
            "k\n",
            "i\n",
            "l\n",
            "l\n",
            "s\n",
            " \n",
            "c\n",
            "o\n",
            "u\n",
            "r\n",
            "s\n",
            "e\n"
          ]
        }
      ]
    },
    {
      "cell_type": "code",
      "source": [
        "# Using a while Loop\n",
        "\n",
        "text = \"PWskills course\"\n",
        "index = 0\n",
        "while index < len(text):\n",
        "    print(text[index])\n",
        "    index += 1"
      ],
      "metadata": {
        "colab": {
          "base_uri": "https://localhost:8080/"
        },
        "id": "ov0coRb9DIQX",
        "outputId": "2e15575b-d02e-43e6-de60-111285327cea"
      },
      "execution_count": null,
      "outputs": [
        {
          "output_type": "stream",
          "name": "stdout",
          "text": [
            "P\n",
            "W\n",
            "s\n",
            "k\n",
            "i\n",
            "l\n",
            "l\n",
            "s\n",
            " \n",
            "c\n",
            "o\n",
            "u\n",
            "r\n",
            "s\n",
            "e\n"
          ]
        }
      ]
    },
    {
      "cell_type": "markdown",
      "source": [
        "### 5.5. Function Calls Statements\n",
        "\n"
      ],
      "metadata": {
        "id": "ud0C3xfQDQxh"
      }
    },
    {
      "cell_type": "code",
      "source": [
        "length = len(\"Physics Wallah\")  # Calling the len() function to get the length of the string \"Physics Wallah\"\n",
        "print(length)"
      ],
      "metadata": {
        "colab": {
          "base_uri": "https://localhost:8080/"
        },
        "id": "PNt8M0y3DOaW",
        "outputId": "3d297f5c-0362-4b50-b99c-c4db91193a42"
      },
      "execution_count": null,
      "outputs": [
        {
          "output_type": "stream",
          "name": "stdout",
          "text": [
            "14\n"
          ]
        }
      ]
    },
    {
      "cell_type": "markdown",
      "source": [
        "### 5.6. Break and Continue Statements"
      ],
      "metadata": {
        "id": "8FexnWRpDuK8"
      }
    },
    {
      "cell_type": "code",
      "source": [
        "# break statement\n",
        "\n",
        "text = \"PWskills course\"\n",
        "for char in text:\n",
        "    if char == ' ':\n",
        "        break  # Exit the loop when a space is encountered\n",
        "    print(char)"
      ],
      "metadata": {
        "colab": {
          "base_uri": "https://localhost:8080/"
        },
        "id": "z-OHaWhgDr7R",
        "outputId": "723c82c5-d922-4d83-bbf5-395d7463ed98"
      },
      "execution_count": null,
      "outputs": [
        {
          "output_type": "stream",
          "name": "stdout",
          "text": [
            "P\n",
            "W\n",
            "s\n",
            "k\n",
            "i\n",
            "l\n",
            "l\n",
            "s\n"
          ]
        }
      ]
    },
    {
      "cell_type": "code",
      "source": [
        "# continue statements\n",
        "\n",
        "text = \"PWskills course\"\n",
        "for char in text:\n",
        "    if char == ' ':\n",
        "        continue  # Skip the space and move to the next character\n",
        "    print(char)"
      ],
      "metadata": {
        "colab": {
          "base_uri": "https://localhost:8080/"
        },
        "id": "V_3syX43D2fy",
        "outputId": "93503653-c3a7-4f0a-e52f-e8cf7ed47c18"
      },
      "execution_count": null,
      "outputs": [
        {
          "output_type": "stream",
          "name": "stdout",
          "text": [
            "P\n",
            "W\n",
            "s\n",
            "k\n",
            "i\n",
            "l\n",
            "l\n",
            "s\n",
            "c\n",
            "o\n",
            "u\n",
            "r\n",
            "s\n",
            "e\n"
          ]
        }
      ]
    },
    {
      "cell_type": "markdown",
      "source": [
        "### 5.7. Return Statements"
      ],
      "metadata": {
        "id": "2HT_iT9vEUjS"
      }
    },
    {
      "cell_type": "code",
      "source": [
        "def find_word(text):\n",
        "    if \"PWskills\" in text:\n",
        "        return \"Found 'PWskills'\"\n",
        "    else:\n",
        "        return \"Word not found\"\n",
        "\n",
        "result1 = find_word(\"Data Science is a very good course in PWskills\")\n",
        "result2 = find_word(\"I'm taking a Data Science course\")\n",
        "\n",
        "print(result1)\n",
        "print(result2)"
      ],
      "metadata": {
        "colab": {
          "base_uri": "https://localhost:8080/"
        },
        "id": "ibjbHgrPEHMb",
        "outputId": "a8275454-5c93-4b32-ed6d-9be2c3901295"
      },
      "execution_count": null,
      "outputs": [
        {
          "output_type": "stream",
          "name": "stdout",
          "text": [
            "Found 'PWskills'\n",
            "Word not found\n"
          ]
        }
      ]
    },
    {
      "cell_type": "markdown",
      "source": [
        "### 5.8. Pass Statements"
      ],
      "metadata": {
        "id": "Wr2kpuusEkxV"
      }
    },
    {
      "cell_type": "code",
      "source": [
        "a=3\n",
        "if a>10:\n",
        "    pass  # Will be implemented later"
      ],
      "metadata": {
        "id": "moGdHzciEddj"
      },
      "execution_count": null,
      "outputs": []
    },
    {
      "cell_type": "markdown",
      "source": [
        "### 5.9. Import Statements"
      ],
      "metadata": {
        "id": "ux9jFhfLE9C8"
      }
    },
    {
      "cell_type": "code",
      "source": [
        "import pandas # Import the math module"
      ],
      "metadata": {
        "id": "DwFjZm2AEuMV"
      },
      "execution_count": null,
      "outputs": []
    },
    {
      "cell_type": "markdown",
      "source": [
        "### 5.10. Del Statements"
      ],
      "metadata": {
        "id": "kruG_RiKFOVJ"
      }
    },
    {
      "cell_type": "code",
      "source": [
        "word = \"PWskills\"\n",
        "print(word)  # Output: PWskills\n",
        "\n",
        "# Using del to delete the variable 'word'\n",
        "del word\n",
        "\n",
        "# Attempting to print the variable after it's deleted will result in a NameError\n",
        "print(word)"
      ],
      "metadata": {
        "colab": {
          "base_uri": "https://localhost:8080/",
          "height": 245
        },
        "id": "w7x0LeFdFC5w",
        "outputId": "398b8f1c-1a96-4cb9-ef8d-416892947ad0"
      },
      "execution_count": null,
      "outputs": [
        {
          "output_type": "stream",
          "name": "stdout",
          "text": [
            "PWskills\n"
          ]
        },
        {
          "output_type": "error",
          "ename": "NameError",
          "evalue": "ignored",
          "traceback": [
            "\u001b[0;31m---------------------------------------------------------------------------\u001b[0m",
            "\u001b[0;31mNameError\u001b[0m                                 Traceback (most recent call last)",
            "\u001b[0;32m<ipython-input-28-6ca6fcd9978b>\u001b[0m in \u001b[0;36m<cell line: 8>\u001b[0;34m()\u001b[0m\n\u001b[1;32m      6\u001b[0m \u001b[0;34m\u001b[0m\u001b[0m\n\u001b[1;32m      7\u001b[0m \u001b[0;31m# Attempting to print the variable after it's deleted will result in a NameError\u001b[0m\u001b[0;34m\u001b[0m\u001b[0;34m\u001b[0m\u001b[0m\n\u001b[0;32m----> 8\u001b[0;31m \u001b[0mprint\u001b[0m\u001b[0;34m(\u001b[0m\u001b[0mword\u001b[0m\u001b[0;34m)\u001b[0m\u001b[0;34m\u001b[0m\u001b[0;34m\u001b[0m\u001b[0m\n\u001b[0m",
            "\u001b[0;31mNameError\u001b[0m: name 'word' is not defined"
          ]
        }
      ]
    },
    {
      "cell_type": "code",
      "source": [],
      "metadata": {
        "id": "VU7PJ-ydFSmy"
      },
      "execution_count": null,
      "outputs": []
    }
  ]
}
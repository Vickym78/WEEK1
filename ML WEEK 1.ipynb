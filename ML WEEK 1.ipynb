{
 "cells": [
  {
   "cell_type": "code",
   "execution_count": null,
   "metadata": {
    "colab": {
     "base_uri": "https://localhost:8080/"
    },
    "executionInfo": {
     "elapsed": 11,
     "status": "ok",
     "timestamp": 1702913856117,
     "user": {
      "displayName": "Vicky Mahato",
      "userId": "12263458226238747661"
     },
     "user_tz": -330
    },
    "id": "_FhQVBcYko2c",
    "outputId": "66aa801b-5432-4f25-d19c-4ea2218be6f8"
   },
   "outputs": [
    {
     "name": "stdout",
     "output_type": "stream",
     "text": [
      "Hello\n"
     ]
    }
   ],
   "source": [
    "print(\"Hello\")"
   ]
  },
  {
   "cell_type": "code",
   "execution_count": null,
   "metadata": {
    "colab": {
     "base_uri": "https://localhost:8080/"
    },
    "executionInfo": {
     "elapsed": 627,
     "status": "ok",
     "timestamp": 1702914333562,
     "user": {
      "displayName": "Vicky Mahato",
      "userId": "12263458226238747661"
     },
     "user_tz": -330
    },
    "id": "9w_Tyuckl9Rf",
    "outputId": "99e08462-fab0-4d96-8afe-d18c93646ba2"
   },
   "outputs": [
    {
     "name": "stdout",
     "output_type": "stream",
     "text": [
      "\n",
      "Here is a list of the Python keywords.  Enter any keyword to get more help.\n",
      "\n",
      "False               class               from                or\n",
      "None                continue            global              pass\n",
      "True                def                 if                  raise\n",
      "and                 del                 import              return\n",
      "as                  elif                in                  try\n",
      "assert              else                is                  while\n",
      "async               except              lambda              with\n",
      "await               finally             nonlocal            yield\n",
      "break               for                 not                 \n",
      "\n"
     ]
    }
   ],
   "source": [
    "help('keywords')"
   ]
  },
  {
   "cell_type": "markdown",
   "metadata": {
    "id": "LCGu75gXmjdX"
   },
   "source": [
    "**Variables/ identifiers**"
   ]
  },
  {
   "cell_type": "code",
   "execution_count": null,
   "metadata": {
    "colab": {
     "base_uri": "https://localhost:8080/"
    },
    "executionInfo": {
     "elapsed": 406,
     "status": "ok",
     "timestamp": 1702914436652,
     "user": {
      "displayName": "Vicky Mahato",
      "userId": "12263458226238747661"
     },
     "user_tz": -330
    },
    "id": "I6Ho0ylomtwU",
    "outputId": "4ee1958e-a6bd-4d84-f3d1-d99706937d83"
   },
   "outputs": [
    {
     "name": "stdout",
     "output_type": "stream",
     "text": [
      "123\n"
     ]
    }
   ],
   "source": [
    "_abc=123 #identifier\n",
    "print(_abc)"
   ]
  },
  {
   "cell_type": "code",
   "execution_count": null,
   "metadata": {
    "colab": {
     "base_uri": "https://localhost:8080/"
    },
    "executionInfo": {
     "elapsed": 448,
     "status": "ok",
     "timestamp": 1702914544250,
     "user": {
      "displayName": "Vicky Mahato",
      "userId": "12263458226238747661"
     },
     "user_tz": -330
    },
    "id": "xcN-8dMYnSqA",
    "outputId": "cd4468cc-9989-4177-f331-0beeb794695e"
   },
   "outputs": [
    {
     "name": "stdout",
     "output_type": "stream",
     "text": [
      "['array', 1, 'hey']\n"
     ]
    }
   ],
   "source": [
    "course=[\"array\",1,\"hey\"] # valid list\n",
    "print(course)\n",
    "\n",
    "23='HEY' #Invalid"
   ]
  },
  {
   "cell_type": "markdown",
   "metadata": {
    "id": "m-S8kk5mnyRW"
   },
   "source": [
    "# **COMMENTS**"
   ]
  },
  {
   "cell_type": "code",
   "execution_count": null,
   "metadata": {
    "colab": {
     "base_uri": "https://localhost:8080/",
     "height": 36
    },
    "executionInfo": {
     "elapsed": 412,
     "status": "ok",
     "timestamp": 1702914811171,
     "user": {
      "displayName": "Vicky Mahato",
      "userId": "12263458226238747661"
     },
     "user_tz": -330
    },
    "id": "lrzJ_smkn4fB",
    "outputId": "eb85eb51-8f30-4452-fa6a-02d88716299d"
   },
   "outputs": [
    {
     "data": {
      "application/vnd.google.colaboratory.intrinsic+json": {
       "type": "string"
      },
      "text/plain": [
       "'\\nfor multiline\\n'"
      ]
     },
     "execution_count": 13,
     "metadata": {},
     "output_type": "execute_result"
    }
   ],
   "source": [
    "#not will interpate\n",
    "\n",
    "# for comments\n",
    "'''\n",
    "this is multiline comments\n",
    "'''\n",
    "\n",
    "\"\"\"\n",
    "for multiline\n",
    "\"\"\""
   ]
  }
 ],
 "metadata": {
  "colab": {
   "authorship_tag": "ABX9TyMB/OJxPSVmUICSlqatIQ+v",
   "provenance": []
  },
  "kernelspec": {
   "display_name": "Python 3 (ipykernel)",
   "language": "python",
   "name": "python3"
  },
  "language_info": {
   "codemirror_mode": {
    "name": "ipython",
    "version": 3
   },
   "file_extension": ".py",
   "mimetype": "text/x-python",
   "name": "python",
   "nbconvert_exporter": "python",
   "pygments_lexer": "ipython3",
   "version": "3.11.4"
  }
 },
 "nbformat": 4,
 "nbformat_minor": 1
}
